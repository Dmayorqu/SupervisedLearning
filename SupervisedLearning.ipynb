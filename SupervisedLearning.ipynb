{
  "nbformat": 4,
  "nbformat_minor": 0,
  "metadata": {
    "kernelspec": {
      "display_name": "Python 3",
      "language": "python",
      "name": "python3"
    },
    "language_info": {
      "codemirror_mode": {
        "name": "ipython",
        "version": 3
      },
      "file_extension": ".py",
      "mimetype": "text/x-python",
      "name": "python",
      "nbconvert_exporter": "python",
      "pygments_lexer": "ipython3",
      "version": "3.7.6"
    },
    "colab": {
      "name": "Credit Risk Evaluator.ipynb",
      "provenance": []
    }
  },
  "cells": [
    {
      "cell_type": "code",
      "metadata": {
        "id": "bjqpZit1jksf"
      },
      "source": [
        "import numpy as np\n",
        "import pandas as pd\n",
        "from pathlib import Path"
      ],
      "execution_count": 1,
      "outputs": []
    },
    {
      "cell_type": "code",
      "metadata": {
        "id": "554_mntIjksi"
      },
      "source": [
        "train_df = pd.read_csv(Path('/content/2019loans.csv'))\n",
        "test_df = pd.read_csv(Path('/content/2020Q1loans.csv'))"
      ],
      "execution_count": 2,
      "outputs": []
    },
    {
      "cell_type": "code",
      "metadata": {
        "id": "uRiBv3g-jksj"
      },
      "source": [
        "# Convert categorical data to numeric and separate target feature for training data\n",
        "X_train=pd.get_dummies(train_df.drop(columns=[\"target\"]))\n",
        "Y_train_df=train_df[\"target\"]"
      ],
      "execution_count": 3,
      "outputs": []
    },
    {
      "cell_type": "code",
      "metadata": {
        "id": "tnlygK5Ujksk"
      },
      "source": [
        "# Convert categorical data to numeric and separate target feature for testing data\n",
        "X_test=pd.get_dummies(test_df.drop(columns=[\"target\"]))\n",
        "Y_test_df=test_df[\"target\"]\n",
        "\n"
      ],
      "execution_count": 4,
      "outputs": []
    },
    {
      "cell_type": "code",
      "metadata": {
        "id": "BGKLjdOojksl"
      },
      "source": [
        "# add missing dummy variables to testing set\n",
        "for column in X_train.columns:\n",
        "  if column not in X_test.columns:\n",
        "    X_test[column]=0"
      ],
      "execution_count": 5,
      "outputs": []
    },
    {
      "cell_type": "code",
      "metadata": {
        "colab": {
          "base_uri": "https://localhost:8080/"
        },
        "id": "fi1mZiJ-jksl",
        "outputId": "4f3e0f43-5be1-48a4-d9ac-bc4b4c72340c"
      },
      "source": [
        "# Train the Logistic Regression model on the unscaled data and print the model score\n",
        "from sklearn.linear_model import LogisticRegression\n",
        "model=LogisticRegression()\n",
        "model.fit(X_train,Y_train_df)\n",
        "model.score(X_test, Y_test_df)"
      ],
      "execution_count": 7,
      "outputs": [
        {
          "output_type": "stream",
          "name": "stderr",
          "text": [
            "/usr/local/lib/python3.7/dist-packages/sklearn/linear_model/_logistic.py:818: ConvergenceWarning: lbfgs failed to converge (status=1):\n",
            "STOP: TOTAL NO. of ITERATIONS REACHED LIMIT.\n",
            "\n",
            "Increase the number of iterations (max_iter) or scale the data as shown in:\n",
            "    https://scikit-learn.org/stable/modules/preprocessing.html\n",
            "Please also refer to the documentation for alternative solver options:\n",
            "    https://scikit-learn.org/stable/modules/linear_model.html#logistic-regression\n",
            "  extra_warning_msg=_LOGISTIC_SOLVER_CONVERGENCE_MSG,\n"
          ]
        },
        {
          "output_type": "execute_result",
          "data": {
            "text/plain": [
              "0.5082943428328371"
            ]
          },
          "metadata": {},
          "execution_count": 7
        }
      ]
    },
    {
      "cell_type": "code",
      "metadata": {
        "colab": {
          "base_uri": "https://localhost:8080/"
        },
        "id": "zHzWdxghjksm",
        "outputId": "4ee9d285-0a73-43ec-e258-75673a8bcd65"
      },
      "source": [
        "# Train a Random Forest Classifier model and print the model score\n",
        "from sklearn.ensemble import RandomForestClassifier\n",
        "model_2=RandomForestClassifier()\n",
        "model_2.fit(X_train,Y_train_df)\n",
        "model_2.score(X_test, Y_test_df)"
      ],
      "execution_count": 8,
      "outputs": [
        {
          "output_type": "execute_result",
          "data": {
            "text/plain": [
              "0.6380263717566993"
            ]
          },
          "metadata": {},
          "execution_count": 8
        }
      ]
    },
    {
      "cell_type": "code",
      "metadata": {
        "id": "HYB8pJm8jksn"
      },
      "source": [
        "# Scale the data\n",
        "from sklearn.preprocessing import StandardScaler\n",
        "scaler = StandardScaler()\n",
        "scaler.fit(X_train)\n",
        "X_trainScaled= scaler.transform(X_train)\n",
        "X_testScaled= scaler.transform(X_test)"
      ],
      "execution_count": 9,
      "outputs": []
    },
    {
      "cell_type": "code",
      "metadata": {
        "colab": {
          "base_uri": "https://localhost:8080/"
        },
        "id": "qEUUu8XZjksn",
        "outputId": "dda26cca-784c-4b6b-c18f-d9a30cb3362e"
      },
      "source": [
        "# Train the Logistic Regression model on the scaled data and print the model score\n",
        "Model_3=LogisticRegression()\n",
        "Model_3.fit (X_trainScaled,Y_train_df)\n",
        "Model_3.score(X_testScaled,Y_test_df)\n"
      ],
      "execution_count": 10,
      "outputs": [
        {
          "output_type": "stream",
          "name": "stderr",
          "text": [
            "/usr/local/lib/python3.7/dist-packages/sklearn/linear_model/_logistic.py:818: ConvergenceWarning: lbfgs failed to converge (status=1):\n",
            "STOP: TOTAL NO. of ITERATIONS REACHED LIMIT.\n",
            "\n",
            "Increase the number of iterations (max_iter) or scale the data as shown in:\n",
            "    https://scikit-learn.org/stable/modules/preprocessing.html\n",
            "Please also refer to the documentation for alternative solver options:\n",
            "    https://scikit-learn.org/stable/modules/linear_model.html#logistic-regression\n",
            "  extra_warning_msg=_LOGISTIC_SOLVER_CONVERGENCE_MSG,\n"
          ]
        },
        {
          "output_type": "execute_result",
          "data": {
            "text/plain": [
              "0.7598894087622289"
            ]
          },
          "metadata": {},
          "execution_count": 10
        }
      ]
    },
    {
      "cell_type": "code",
      "metadata": {
        "colab": {
          "base_uri": "https://localhost:8080/"
        },
        "id": "anrBbaWLjkso",
        "outputId": "9a3ab31c-339e-4564-946f-ae65987d55f9"
      },
      "source": [
        "# Train a Random Forest Classifier model on the scaled data and print the model score\n",
        "Model_4= RandomForestClassifier()\n",
        "Model_4.fit(X_trainScaled, Y_train_df)\n",
        "Model_4.score(X_testScaled, Y_test_df)\n"
      ],
      "execution_count": 11,
      "outputs": [
        {
          "output_type": "execute_result",
          "data": {
            "text/plain": [
              "0.6365376435559337"
            ]
          },
          "metadata": {},
          "execution_count": 11
        }
      ]
    },
    {
      "cell_type": "code",
      "metadata": {
        "id": "O7cYbv1ToSWo"
      },
      "source": [
        ""
      ],
      "execution_count": null,
      "outputs": []
    },
    {
      "cell_type": "markdown",
      "metadata": {
        "id": "t6RmBzwyoY01"
      },
      "source": [
        "The best model turned out to be a scaled logisticregression model witht a accurracy of about 76%"
      ]
    }
  ]
}